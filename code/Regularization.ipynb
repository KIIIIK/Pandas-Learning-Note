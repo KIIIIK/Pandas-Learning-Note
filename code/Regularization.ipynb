{
 "cells": [
  {
   "cell_type": "markdown",
   "metadata": {},
   "source": [
    "# Regularization"
   ]
  },
  {
   "cell_type": "markdown",
   "metadata": {},
   "source": [
    "个人认为正则化可以从两个角度来看待(以线性回归为例)：\n",
    "1. 防止过拟合，降低模型的复杂度，抑制参数的大小，让参数不会变得特别大，所以正则化也叫权重衰退。\n",
    "2. 保证线性回归一定有解，在用最小二乘法计算时，可得到线性回归解析解为$(X^TX)^{-1}X^TY$，但有时候$X^TX$是不一定有逆的，也就是统计学中说的变量之间存在多重共线性。这时候有两种解决办法，一种是用奇异值分解直接计算伪逆$(X^TX)^{-1}X^T$，另外一种方法就是用L2正则化，也叫岭回归，这时解析解就变成了$(X^TX+\\lambda I)^{-1}X^TY$，($\\lambda>0$)，这个时候括号里面的逆一定是存在，因为$X^TX$本身是半正定的，它的所有特征值都$\\geq 0$，加上$\\lambda I后$，它的所有特征值就都大于0了，这时逆一定存在，即解一定存在。\n",
    "\n",
    "下面举一个简单的多项式拟合例子来直观的看一下正则化。"
   ]
  },
  {
   "cell_type": "code",
   "execution_count": 2,
   "metadata": {},
   "outputs": [],
   "source": [
    "#导入需要的库\n",
    "import numpy as np\n",
    "import matplotlib.pyplot as plt\n",
    "from sklearn.preprocessing import PolynomialFeatures\n",
    "from sklearn.linear_model import LinearRegression\n",
    "from sklearn.linear_model import Ridge\n",
    "from sklearn.pipeline import Pipeline"
   ]
  },
  {
   "cell_type": "code",
   "execution_count": 3,
   "metadata": {},
   "outputs": [],
   "source": [
    "#生成sin函数在一个周期(0, 2π)内的数据\n",
    "a = np.arange(0, 2*np.pi, 0.1)\n",
    "y_sinx = np.sin(a)\n",
    "#以0.6为间隔在(0, 6)范围内生成10个数\n",
    "x = np.arange(0, 6, 0.6).reshape(10, -1)\n",
    "#设置随机种子\n",
    "np.random.seed(21)\n",
    "#生成10个分布为N(0, 1)的随机数\n",
    "epison = np.random.normal(0, 1, size=x.shape)\n",
    "#生成真实值\n",
    "y_true = np.sin(x) + epison"
   ]
  },
  {
   "cell_type": "code",
   "execution_count": 4,
   "metadata": {},
   "outputs": [
    {
     "data": {
      "image/png": "[encoded data removed]",
      "text/plain": [
       "<Figure size 432x288 with 1 Axes>"
      ]
     },
     "metadata": {
      "needs_background": "light"
     },
     "output_type": "display_data"
    }
   ],
   "source": [
    "#绘制相应的正弦函数图像\n",
    "plt.plot(a, y_sinx, label=\"y_sinx\")\n",
    "plt.scatter(x, y_true, label=\"y_true\", color=\"r\")\n",
    "plt.legend()\n",
    "plt.show()"
   ]
  },
  {
   "cell_type": "code",
   "execution_count": 5,
   "metadata": {},
   "outputs": [],
   "source": [
    "#二次多项式\n",
    "pipe = Pipeline([('feature', PolynomialFeatures(degree=2)),\n",
    "                 ('lr', LinearRegression(fit_intercept=False))])\n",
    "pipe.fit(x, y_true)\n",
    "coef_2 = pipe['lr'].coef_\n",
    "y_2 = pipe.predict(x)\n",
    "#三次多项式\n",
    "pipe = Pipeline([('feature', PolynomialFeatures(degree=3)),\n",
    "                 ('lr', LinearRegression(fit_intercept=False))])\n",
    "pipe.fit(x, y_true)\n",
    "coef_3 = pipe['lr'].coef_\n",
    "y_3 = pipe.predict(x)\n",
    "#五次多项式\n",
    "pipe = Pipeline([('feature', PolynomialFeatures(degree=5)),\n",
    "                 ('lr', LinearRegression(fit_intercept=False))])\n",
    "\n",
    "pipe.fit(x, y_true)\n",
    "coef_5 = pipe['lr'].coef_\n",
    "y_5 = pipe.predict(x)\n",
    "#九次多项式\n",
    "pipe = Pipeline([('feature', PolynomialFeatures(degree=9)),\n",
    "                 ('lr', LinearRegression(fit_intercept=False))])\n",
    "\n",
    "pipe.fit(x, y_true)\n",
    "coef_9 = pipe['lr'].coef_\n",
    "y_9 = pipe.predict(x)"
   ]
  },
  {
   "cell_type": "code",
   "execution_count": 6,
   "metadata": {},
   "outputs": [
    {
     "name": "stderr",
     "output_type": "stream",
     "text": [
      "d:\\Anacodna\\miniconda3\\lib\\site-packages\\ipykernel_launcher.py:25: UserWarning: Matplotlib is currently using module://matplotlib_inline.backend_inline, which is a non-GUI backend, so cannot show the figure.\n"
     ]
    },
    {
     "data": {
      "image/png": "[encoded data removed]",
      "text/plain": [
       "<Figure size 144x144 with 4 Axes>"
      ]
     },
     "metadata": {
      "needs_background": "light"
     },
     "output_type": "display_data"
    }
   ],
   "source": [
    "#绘制各多项式的图像\n",
    "fig = plt.figure(figsize=(2, 2))\n",
    "axes1 = fig.add_subplot(2, 2, 1)\n",
    "axes2 = fig.add_subplot(2, 2, 2)\n",
    "axes3 = fig.add_subplot(2, 2, 3)\n",
    "axes4 = fig.add_subplot(2, 2, 4)\n",
    "\n",
    "axes1.plot(a, y_sinx, label=\"y_sinx\")\n",
    "axes1.scatter(x, y_true, label=\"y_true\", color=\"r\")\n",
    "axes1.plot(x, y_2, label=\"M=2\", color=\"green\")\n",
    "axes1.legend()\n",
    "axes2.plot(a, y_sinx, label=\"y_sinx\")\n",
    "axes2.scatter(x, y_true, label=\"y_true\", color=\"r\")\n",
    "axes2.plot(x, y_3, label=\"M=3\", color=\"green\")\n",
    "axes2.legend()\n",
    "axes3.plot(a, y_sinx, label=\"y_sinx\")\n",
    "axes3.scatter(x, y_true, label=\"y_true\", color=\"r\")\n",
    "axes3.plot(x, y_5, label=\"M=5\", color=\"green\")\n",
    "axes3.legend()\n",
    "axes4.plot(a, y_sinx, label=\"y_sinx\")\n",
    "axes4.scatter(x, y_true, label=\"y_true\", color=\"r\")\n",
    "axes4.plot(x, y_9, label=\"M=9\", color=\"green\")\n",
    "axes4.legend()\n",
    "fig.tight_layout()\n",
    "fig.show()\n",
    "#图片可能显示的会有点问题，可以去文件夹下查看polynomial_demo.png这张图片"
   ]
  },
  {
   "cell_type": "markdown",
   "metadata": {},
   "source": [
    "各多项式的系数如下所示(从左往右分别为截距项,一次项,二次项,三次项.......)：\n",
    "二次：[ 0.66591124 -0.21063141 -0.01400257]\n",
    "三次：[ 0.03583417  1.71043691 -0.95161726  0.1157549 ]\n",
    "五次：[-0.0755096   0.57901471  2.07612953 -1.91503701  0.5010642  -0.04112775]\n",
    "九次：[   -0.05196426  -200.64705615   850.19139651 -1393.68307158\n",
    "   1191.92112093  -592.17435814   177.14908828   -31.44451888\n",
    "      3.04931432    -0.12438003]\n",
    "可以看出，随着多项式系数的增加，曲线对这10个样本点的拟合效果越来越好，但是当函数为九次多项式时这就是典型的过拟合，与之对应的系数也变得越来越大。\n",
    "接下来看一下用采用L2正则化的九次多项式来拟合会发生什么样的变化。"
   ]
  },
  {
   "cell_type": "code",
   "execution_count": 7,
   "metadata": {},
   "outputs": [
    {
     "name": "stdout",
     "output_type": "stream",
     "text": [
      "[[-0.09067004  1.2009269   0.82357157 -0.6812892  -0.4874632   0.51919894\n",
      "  -0.18135886  0.03029436 -0.00224941  0.00004445]]\n"
     ]
    }
   ],
   "source": [
    "#正则化系数为0.01\n",
    "pipe = Pipeline([('feature', PolynomialFeatures(degree=9)),\n",
    "                 ('ridge', Ridge(alpha=0.01, fit_intercept=False))])\n",
    "pipe.fit(x, y_true)\n",
    "l2_coef_9 = pipe['ridge'].coef_\n",
    "y_9 = pipe.predict(x)\n",
    "#设置不用科学计数法输出\n",
    "np.set_printoptions(suppress=True)\n",
    "print(l2_coef_9)"
   ]
  },
  {
   "cell_type": "markdown",
   "metadata": {},
   "source": [
    "可以看到即使我们用了一个比较小的正则化系数0.01，相应的系数也被极大的压缩了，这也是正则化被称为权重衰退的原因，从而避免了过拟合。"
   ]
  },
  {
   "cell_type": "markdown",
   "metadata": {},
   "source": [
    "使用L1正则化的线性回归叫Lasso回归，由于它可以使某些系数变为0，所以可以起到一定的特征选择作用。使用L1+L2正则化的线性回归叫弹性网回归(ElasticNet)。"
   ]
  },
  {
   "cell_type": "markdown",
   "metadata": {},
   "source": [
    "在使用正则化的过程中，最重要的就是正则化系数的选取，过大或过小都会导致模型效果变坏，针对如何选取合适的正则化系数，可以采用交叉验证的方法，在sklearn中有相应的方法可以直接使用(RidgeCV、LassoCV等)，大家可以自行尝试。"
   ]
  }
 ],
 "metadata": {
  "kernelspec": {
   "display_name": "Python 3.7.10 ('base')",
   "language": "python",
   "name": "python3"
  },
  "language_info": {
   "codemirror_mode": {
    "name": "ipython",
    "version": 3
   },
   "file_extension": ".py",
   "mimetype": "text/x-python",
   "name": "python",
   "nbconvert_exporter": "python",
   "pygments_lexer": "ipython3",
   "version": "3.7.10"
  },
  "orig_nbformat": 4,
  "vscode": {
   "interpreter": {
    "hash": "07b30761a61b304d98a7d3dca6e8ed7fffac965d91dfa0be3fcd4b376b816efa"
   }
  }
 },
 "nbformat": 4,
 "nbformat_minor": 2
}
